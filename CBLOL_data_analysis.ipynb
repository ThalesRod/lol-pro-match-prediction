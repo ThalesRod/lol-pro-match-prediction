{
  "nbformat": 4,
  "nbformat_minor": 0,
  "metadata": {
    "colab": {
      "name": "CBLOL data analysis.ipynb",
      "provenance": [],
      "collapsed_sections": [],
      "authorship_tag": "ABX9TyNx71J1n8DWAxad09LWp7rC",
      "include_colab_link": true
    },
    "kernelspec": {
      "name": "python3",
      "display_name": "Python 3"
    },
    "language_info": {
      "name": "python"
    }
  },
  "cells": [
    {
      "cell_type": "markdown",
      "metadata": {
        "id": "view-in-github",
        "colab_type": "text"
      },
      "source": [
        "<a href=\"https://colab.research.google.com/github/ThalesRod/lol-pro-match-prediction/blob/main/CBLOL_data_analysis.ipynb\" target=\"_parent\"><img src=\"https://colab.research.google.com/assets/colab-badge.svg\" alt=\"Open In Colab\"/></a>"
      ]
    },
    {
      "cell_type": "markdown",
      "metadata": {
        "id": "5mX9VnWTs9yd"
      },
      "source": [
        "# Professional League of Legends matches prediction\n",
        "\n",
        "A data science project to analyze data from professional League of Legends matches and try to predict their outcome only with data from up to a certain point of the match.\n",
        "\n",
        "This notebook contains the exploratory analysis, data manipulation and modeling, and classification algorithms and their evaluation."
      ]
    },
    {
      "cell_type": "code",
      "metadata": {
        "id": "sopO3j8DF4uQ"
      },
      "source": [
        "import numpy as np\n",
        "import pandas as pd\n",
        "import matplotlib.pyplot as plt\n",
        "import seaborn as sns"
      ],
      "execution_count": 1,
      "outputs": []
    },
    {
      "cell_type": "markdown",
      "metadata": {
        "id": "rfEl9Slsz-_Y"
      },
      "source": [
        "Importing the data:"
      ]
    },
    {
      "cell_type": "code",
      "metadata": {
        "id": "-q971L8tsqZt"
      },
      "source": [
        "cblol_data = pd.read_csv('https://github.com/ThalesRod/lol-pro-match-prediction/raw/main/data/cblol_data_updated_at_10.csv')"
      ],
      "execution_count": 2,
      "outputs": []
    },
    {
      "cell_type": "code",
      "metadata": {
        "colab": {
          "base_uri": "https://localhost:8080/"
        },
        "id": "2CWZkZ5QXInE",
        "outputId": "b19b3620-9fd0-47e3-d21d-af6bd38b38a1"
      },
      "source": [
        "cblol_data.shape"
      ],
      "execution_count": 3,
      "outputs": [
        {
          "output_type": "execute_result",
          "data": {
            "text/plain": [
              "(90, 10)"
            ]
          },
          "metadata": {},
          "execution_count": 3
        }
      ]
    },
    {
      "cell_type": "code",
      "metadata": {
        "colab": {
          "base_uri": "https://localhost:8080/",
          "height": 226
        },
        "id": "vK-NXOdso3vQ",
        "outputId": "176b79ab-e825-4e67-e84c-d956638560ef"
      },
      "source": [
        "cblol_data.head()"
      ],
      "execution_count": 4,
      "outputs": [
        {
          "output_type": "execute_result",
          "data": {
            "text/html": [
              "<div>\n",
              "<style scoped>\n",
              "    .dataframe tbody tr th:only-of-type {\n",
              "        vertical-align: middle;\n",
              "    }\n",
              "\n",
              "    .dataframe tbody tr th {\n",
              "        vertical-align: top;\n",
              "    }\n",
              "\n",
              "    .dataframe thead th {\n",
              "        text-align: right;\n",
              "    }\n",
              "</style>\n",
              "<table border=\"1\" class=\"dataframe\">\n",
              "  <thead>\n",
              "    <tr style=\"text-align: right;\">\n",
              "      <th></th>\n",
              "      <th>game_id</th>\n",
              "      <th>team1_total_gold</th>\n",
              "      <th>team2_total_gold</th>\n",
              "      <th>team1_total_kills</th>\n",
              "      <th>team2_total_kills</th>\n",
              "      <th>team1_total_buildings</th>\n",
              "      <th>team2_total_buildings</th>\n",
              "      <th>team1_total_dragons</th>\n",
              "      <th>team2_total_dragons</th>\n",
              "      <th>winner_team</th>\n",
              "    </tr>\n",
              "  </thead>\n",
              "  <tbody>\n",
              "    <tr>\n",
              "      <th>0</th>\n",
              "      <td>1991346</td>\n",
              "      <td>15098</td>\n",
              "      <td>15913</td>\n",
              "      <td>1</td>\n",
              "      <td>3</td>\n",
              "      <td>0</td>\n",
              "      <td>0</td>\n",
              "      <td>0</td>\n",
              "      <td>0</td>\n",
              "      <td>1</td>\n",
              "    </tr>\n",
              "    <tr>\n",
              "      <th>1</th>\n",
              "      <td>2062818</td>\n",
              "      <td>16442</td>\n",
              "      <td>16321</td>\n",
              "      <td>3</td>\n",
              "      <td>5</td>\n",
              "      <td>0</td>\n",
              "      <td>0</td>\n",
              "      <td>0</td>\n",
              "      <td>0</td>\n",
              "      <td>2</td>\n",
              "    </tr>\n",
              "    <tr>\n",
              "      <th>2</th>\n",
              "      <td>2052020</td>\n",
              "      <td>15260</td>\n",
              "      <td>14920</td>\n",
              "      <td>3</td>\n",
              "      <td>3</td>\n",
              "      <td>0</td>\n",
              "      <td>0</td>\n",
              "      <td>1</td>\n",
              "      <td>0</td>\n",
              "      <td>2</td>\n",
              "    </tr>\n",
              "    <tr>\n",
              "      <th>3</th>\n",
              "      <td>2133546</td>\n",
              "      <td>15140</td>\n",
              "      <td>15325</td>\n",
              "      <td>1</td>\n",
              "      <td>0</td>\n",
              "      <td>0</td>\n",
              "      <td>0</td>\n",
              "      <td>0</td>\n",
              "      <td>1</td>\n",
              "      <td>2</td>\n",
              "    </tr>\n",
              "    <tr>\n",
              "      <th>4</th>\n",
              "      <td>2066073</td>\n",
              "      <td>14378</td>\n",
              "      <td>14702</td>\n",
              "      <td>0</td>\n",
              "      <td>0</td>\n",
              "      <td>0</td>\n",
              "      <td>0</td>\n",
              "      <td>0</td>\n",
              "      <td>1</td>\n",
              "      <td>1</td>\n",
              "    </tr>\n",
              "  </tbody>\n",
              "</table>\n",
              "</div>"
            ],
            "text/plain": [
              "   game_id  team1_total_gold  ...  team2_total_dragons  winner_team\n",
              "0  1991346             15098  ...                    0            1\n",
              "1  2062818             16442  ...                    0            2\n",
              "2  2052020             15260  ...                    0            2\n",
              "3  2133546             15140  ...                    1            2\n",
              "4  2066073             14378  ...                    1            1\n",
              "\n",
              "[5 rows x 10 columns]"
            ]
          },
          "metadata": {},
          "execution_count": 4
        }
      ]
    },
    {
      "cell_type": "markdown",
      "metadata": {
        "id": "jxQIT4GCEDHW"
      },
      "source": [
        "Testing whether the dataset is balanced:"
      ]
    },
    {
      "cell_type": "markdown",
      "metadata": {
        "id": "Pd-Dcjnpt61Z"
      },
      "source": [
        "Team 1: 46.7% | Team 2: 53.3%"
      ]
    },
    {
      "cell_type": "code",
      "metadata": {
        "colab": {
          "base_uri": "https://localhost:8080/"
        },
        "id": "F5qPSIT5qN-M",
        "outputId": "ccb4ceb4-8bef-40e8-c904-f657bdd5c055"
      },
      "source": [
        "cblol_data['winner_team'].value_counts()"
      ],
      "execution_count": 5,
      "outputs": [
        {
          "output_type": "execute_result",
          "data": {
            "text/plain": [
              "2    48\n",
              "1    42\n",
              "Name: winner_team, dtype: int64"
            ]
          },
          "metadata": {},
          "execution_count": 5
        }
      ]
    },
    {
      "cell_type": "code",
      "metadata": {
        "colab": {
          "base_uri": "https://localhost:8080/",
          "height": 301
        },
        "id": "kgSLaVDIlHvX",
        "outputId": "79ab057b-7434-4cb0-b648-24696525cce3"
      },
      "source": [
        "ax = sns.countplot(x = 'winner_team', data=cblol_data)\n",
        "ax.set_title(\"Winner team distribution\", fontdict={'fontsize':15})\n",
        "ax.set_xlabel('Team', fontdict={'fontsize':14})\n",
        "ax.set_ylabel('Number of wins', fontdict={'fontsize':14})\n",
        "\n",
        "for axis in ['top', 'right', 'left']:\n",
        "   ax.spines[axis].set_color(None)\n",
        "\n",
        "plt.show()"
      ],
      "execution_count": 6,
      "outputs": [
        {
          "output_type": "display_data",
          "data": {
            "image/png": "[encoded data removed]",
            "text/plain": [
              "<Figure size 432x288 with 1 Axes>"
            ]
          },
          "metadata": {
            "needs_background": "light"
          }
        }
      ]
    },
    {
      "cell_type": "markdown",
      "metadata": {
        "id": "GkrMUVWC14bp"
      },
      "source": [
        "The distribution of the response variable is around 50%, so the dataset is balanced."
      ]
    },
    {
      "cell_type": "markdown",
      "metadata": {
        "id": "zcVRPZ3__7qi"
      },
      "source": [
        "## Teams total gold analysis:"
      ]
    },
    {
      "cell_type": "markdown",
      "metadata": {
        "id": "D6bvQbqKEV2C"
      },
      "source": [
        "Basic stats:"
      ]
    },
    {
      "cell_type": "code",
      "metadata": {
        "colab": {
          "base_uri": "https://localhost:8080/"
        },
        "id": "VTkMHb5uCLxJ",
        "outputId": "3cd67c9d-a374-43cb-b4b9-8a9c3067d6da"
      },
      "source": [
        "print(\"Mean:\")\n",
        "print(cblol_data[['team1_total_gold', 'team2_total_gold']].mean())\n",
        "print(\"\\nMedian:\")\n",
        "print(cblol_data[['team1_total_gold', 'team2_total_gold']].median())\n",
        "print(\"\\nStandard Deviation:\")\n",
        "print(cblol_data[['team1_total_gold', 'team2_total_gold']].std())"
      ],
      "execution_count": 7,
      "outputs": [
        {
          "output_type": "stream",
          "name": "stdout",
          "text": [
            "Mean:\n",
            "team1_total_gold    15701.077778\n",
            "team2_total_gold    15651.300000\n",
            "dtype: float64\n",
            "\n",
            "Median:\n",
            "team1_total_gold    15610.5\n",
            "team2_total_gold    15598.5\n",
            "dtype: float64\n",
            "\n",
            "Standard Deviation:\n",
            "team1_total_gold     832.853835\n",
            "team2_total_gold    1093.897829\n",
            "dtype: float64\n"
          ]
        }
      ]
    },
    {
      "cell_type": "markdown",
      "metadata": {
        "id": "OoZI0aAOEwH6"
      },
      "source": [
        "Gold frequency of a SINGLE team in the match:"
      ]
    },
    {
      "cell_type": "code",
      "metadata": {
        "id": "nHqvPfE17cp0"
      },
      "source": [
        "single_team_gold = pd.concat([cblol_data['team1_total_gold'], cblol_data['team2_total_gold']])"
      ],
      "execution_count": 8,
      "outputs": []
    },
    {
      "cell_type": "code",
      "metadata": {
        "colab": {
          "base_uri": "https://localhost:8080/",
          "height": 295
        },
        "id": "uJEZC5Vy7RYA",
        "outputId": "1949f389-0b15-4967-dc01-e1a83db6b7fc"
      },
      "source": [
        "ax = sns.histplot(single_team_gold)\n",
        "ax.set_title(\"SINGLE team frequency in the match\")\n",
        "ax.set_xlabel(\"Gold\")\n",
        "ax.set_ylabel(\"Frequency\")\n",
        "\n",
        "for axis in ['top', 'right', 'left']:\n",
        "   ax.spines[axis].set_color(None)\n",
        "\n",
        "plt.show()"
      ],
      "execution_count": 9,
      "outputs": [
        {
          "output_type": "display_data",
          "data": {
            "image/png": "[encoded data removed]",
            "text/plain": [
              "<Figure size 432x288 with 1 Axes>"
            ]
          },
          "metadata": {
            "needs_background": "light"
          }
        }
      ]
    },
    {
      "cell_type": "code",
      "metadata": {
        "id": "Mt-A7EbK_7ZF",
        "colab": {
          "base_uri": "https://localhost:8080/"
        },
        "outputId": "72e7c91b-c5db-4abf-e96e-d9bce65161a5"
      },
      "source": [
        "pd.concat([cblol_data['team1_total_gold'], cblol_data['team2_total_gold']]).mean()"
      ],
      "execution_count": 10,
      "outputs": [
        {
          "output_type": "execute_result",
          "data": {
            "text/plain": [
              "15676.18888888889"
            ]
          },
          "metadata": {},
          "execution_count": 10
        }
      ]
    },
    {
      "cell_type": "markdown",
      "metadata": {
        "id": "MgVR4TpmIlnv"
      },
      "source": [
        "Gold difference to evaluate a team's advantage:"
      ]
    },
    {
      "cell_type": "code",
      "metadata": {
        "id": "FitBpW6v1cHK"
      },
      "source": [
        "# gold difference of team 1 with respect to team 2\n",
        "gold_diff = cblol_data['team1_total_gold'] - cblol_data['team2_total_gold']"
      ],
      "execution_count": 11,
      "outputs": []
    },
    {
      "cell_type": "code",
      "metadata": {
        "colab": {
          "base_uri": "https://localhost:8080/"
        },
        "id": "n8dd7fVsNdCn",
        "outputId": "9dadcac3-8db3-402e-a52b-c3693253a2ba"
      },
      "source": [
        "print(\"Mean:\")\n",
        "print(gold_diff.mean())\n",
        "print(\"\\nMedian:\")\n",
        "print(gold_diff.median())\n",
        "print(\"\\nStandard Deviation:\")\n",
        "print(gold_diff.std())"
      ],
      "execution_count": 12,
      "outputs": [
        {
          "output_type": "stream",
          "name": "stdout",
          "text": [
            "Mean:\n",
            "49.77777777777778\n",
            "\n",
            "Median:\n",
            "-19.0\n",
            "\n",
            "Standard Deviation:\n",
            "1466.2090978444198\n"
          ]
        }
      ]
    },
    {
      "cell_type": "code",
      "metadata": {
        "colab": {
          "base_uri": "https://localhost:8080/",
          "height": 295
        },
        "id": "sDjdP85eIbwj",
        "outputId": "a67341ee-4e14-4870-8656-da1c793fb505"
      },
      "source": [
        "ax = sns.histplot(gold_diff)\n",
        "ax.set_title(\"Gold difference frequency\")\n",
        "ax.set_xlabel(\"Gold difference\")\n",
        "ax.set_ylabel(\"Frequency\")\n",
        "\n",
        "for axis in ['top', 'right', 'left']:\n",
        "   ax.spines[axis].set_color(None)\n",
        "\n",
        "plt.show()"
      ],
      "execution_count": 13,
      "outputs": [
        {
          "output_type": "display_data",
          "data": {
            "image/png": "[encoded data removed]",
            "text/plain": [
              "<Figure size 432x288 with 1 Axes>"
            ]
          },
          "metadata": {
            "needs_background": "light"
          }
        }
      ]
    },
    {
      "cell_type": "markdown",
      "metadata": {
        "id": "8Gr95buyFr5i"
      },
      "source": [
        "## Teams total champion kills analysis:"
      ]
    },
    {
      "cell_type": "markdown",
      "metadata": {
        "id": "AwANwnOBFuPx"
      },
      "source": [
        "Basic stats:"
      ]
    },
    {
      "cell_type": "code",
      "metadata": {
        "colab": {
          "base_uri": "https://localhost:8080/"
        },
        "id": "IaDhqCkOFv5W",
        "outputId": "24cbfb35-9fd7-40cf-a9da-01653300bdfb"
      },
      "source": [
        "print(\"Mean:\")\n",
        "print(cblol_data[['team1_total_kills', 'team2_total_kills']].mean())\n",
        "print(\"\\nMedian:\")\n",
        "print(cblol_data[['team1_total_kills', 'team2_total_kills']].median())\n",
        "print(\"\\nStandard Deviation:\")\n",
        "print(cblol_data[['team1_total_kills', 'team2_total_kills']].std())"
      ],
      "execution_count": 14,
      "outputs": [
        {
          "output_type": "stream",
          "name": "stdout",
          "text": [
            "Mean:\n",
            "team1_total_kills    2.422222\n",
            "team2_total_kills    2.333333\n",
            "dtype: float64\n",
            "\n",
            "Median:\n",
            "team1_total_kills    2.0\n",
            "team2_total_kills    2.0\n",
            "dtype: float64\n",
            "\n",
            "Standard Deviation:\n",
            "team1_total_kills    1.760859\n",
            "team2_total_kills    2.033428\n",
            "dtype: float64\n"
          ]
        }
      ]
    },
    {
      "cell_type": "markdown",
      "metadata": {
        "id": "GeQLNvmozSxL"
      },
      "source": [
        "Champion kills frequency of a SINGLE team in the match:"
      ]
    },
    {
      "cell_type": "code",
      "metadata": {
        "id": "U26DNpvrwQsv"
      },
      "source": [
        "single_team_kills = pd.concat([cblol_data['team1_total_kills'], cblol_data['team2_total_kills']]).value_counts()"
      ],
      "execution_count": 15,
      "outputs": []
    },
    {
      "cell_type": "code",
      "metadata": {
        "colab": {
          "base_uri": "https://localhost:8080/",
          "height": 295
        },
        "id": "cx-_f2RU1dG0",
        "outputId": "be331f30-6c88-48e5-e02e-ed76bf70e165"
      },
      "source": [
        "ax = sns.barplot(x=single_team_kills.index, y=single_team_kills, palette='bright')\n",
        "ax.set_title(\"SINGLE team frequency in the match\")\n",
        "ax.set_xlabel(\"Champion kills\")\n",
        "ax.set_ylabel(\"Frequency\")\n",
        "\n",
        "for axis in ['top', 'right', 'left']:\n",
        "   ax.spines[axis].set_color(None)\n",
        "\n",
        "plt.show()"
      ],
      "execution_count": 16,
      "outputs": [
        {
          "output_type": "display_data",
          "data": {
            "image/png": "[encoded data removed]",
            "text/plain": [
              "<Figure size 432x288 with 1 Axes>"
            ]
          },
          "metadata": {
            "needs_background": "light"
          }
        }
      ]
    },
    {
      "cell_type": "markdown",
      "metadata": {
        "id": "88Jk6bEUzmsP"
      },
      "source": [
        "Frequency of champion kills for BOTH teams in the match:"
      ]
    },
    {
      "cell_type": "code",
      "metadata": {
        "id": "6utr2uZZzmdK"
      },
      "source": [
        "both_teams_kills = (cblol_data['team1_total_kills'] + cblol_data['team2_total_kills']).value_counts()"
      ],
      "execution_count": 17,
      "outputs": []
    },
    {
      "cell_type": "code",
      "metadata": {
        "colab": {
          "base_uri": "https://localhost:8080/",
          "height": 295
        },
        "id": "U20dptdI5HCn",
        "outputId": "4a87098d-5abb-423c-8cde-5170d3cfad2e"
      },
      "source": [
        "ax = sns.barplot(x=both_teams_kills.index, y=both_teams_kills, palette='bright')\n",
        "ax.set_title(\"Frequency of BOTH teams in the match\")\n",
        "ax.set_xlabel(\"Champion kills\")\n",
        "ax.set_ylabel(\"Frequency\")\n",
        "\n",
        "for axis in ['top', 'right', 'left']:\n",
        "   ax.spines[axis].set_color(None)\n",
        "\n",
        "plt.show()"
      ],
      "execution_count": 18,
      "outputs": [
        {
          "output_type": "display_data",
          "data": {
            "image/png": "[encoded data removed]",
            "text/plain": [
              "<Figure size 432x288 with 1 Axes>"
            ]
          },
          "metadata": {
            "needs_background": "light"
          }
        }
      ]
    },
    {
      "cell_type": "markdown",
      "metadata": {
        "id": "U-Tkv2sNSctj"
      },
      "source": [
        "## Teams total destroyed buildings analysis:"
      ]
    },
    {
      "cell_type": "markdown",
      "metadata": {
        "id": "v5oMSTNm7cdu"
      },
      "source": [
        "Destroyed buildings frequency of a SINGLE team in the match:"
      ]
    },
    {
      "cell_type": "code",
      "metadata": {
        "colab": {
          "base_uri": "https://localhost:8080/"
        },
        "id": "D8U-3tMG7hov",
        "outputId": "5ad207d9-b33a-4b4d-801b-e1642f1bbd69"
      },
      "source": [
        "single_team_buildings = pd.concat([cblol_data['team1_total_buildings'], cblol_data['team2_total_buildings']]).value_counts()\n",
        "single_team_buildings"
      ],
      "execution_count": 19,
      "outputs": [
        {
          "output_type": "execute_result",
          "data": {
            "text/plain": [
              "0    174\n",
              "1      6\n",
              "dtype: int64"
            ]
          },
          "metadata": {},
          "execution_count": 19
        }
      ]
    },
    {
      "cell_type": "markdown",
      "metadata": {
        "id": "98ybmoSQ8BX5"
      },
      "source": [
        "Destroyed buildings frequency of BOTH teams in the match:"
      ]
    },
    {
      "cell_type": "code",
      "metadata": {
        "colab": {
          "base_uri": "https://localhost:8080/"
        },
        "id": "SJponJL68EHC",
        "outputId": "b6b2021d-545e-4406-bb18-e1040671641b"
      },
      "source": [
        "both_teams_buildings = (cblol_data['team1_total_buildings'] + cblol_data['team2_total_buildings']).value_counts()\n",
        "both_teams_buildings"
      ],
      "execution_count": 20,
      "outputs": [
        {
          "output_type": "execute_result",
          "data": {
            "text/plain": [
              "0    84\n",
              "1     6\n",
              "dtype: int64"
            ]
          },
          "metadata": {},
          "execution_count": 20
        }
      ]
    },
    {
      "cell_type": "markdown",
      "metadata": {
        "id": "OOYkEa2a8Ydw"
      },
      "source": [
        "As in more than 90% of the dataset matches no buildings were destroyed, it may be a feature that has little effect on an estimate."
      ]
    },
    {
      "cell_type": "markdown",
      "metadata": {
        "id": "2HMhbcofT6eE"
      },
      "source": [
        "## Teams total slain dragons analysis:"
      ]
    },
    {
      "cell_type": "markdown",
      "metadata": {
        "id": "h9wZSc2u9H0c"
      },
      "source": [
        "Slain dragons frequency of a SINGLE team in the match:"
      ]
    },
    {
      "cell_type": "code",
      "metadata": {
        "colab": {
          "base_uri": "https://localhost:8080/"
        },
        "id": "9bqxvJp3821p",
        "outputId": "5d0453d8-f8cc-4ec9-c222-2f3947a1d25c"
      },
      "source": [
        "single_team_dragons = pd.concat([cblol_data['team1_total_dragons'], cblol_data['team2_total_dragons']]).value_counts()\n",
        "single_team_dragons"
      ],
      "execution_count": 21,
      "outputs": [
        {
          "output_type": "execute_result",
          "data": {
            "text/plain": [
              "0    120\n",
              "1     60\n",
              "dtype: int64"
            ]
          },
          "metadata": {},
          "execution_count": 21
        }
      ]
    },
    {
      "cell_type": "markdown",
      "metadata": {
        "id": "U6Cb1cz69VXA"
      },
      "source": [
        "Slain dragons frequency of BOTH teams in the match:"
      ]
    },
    {
      "cell_type": "code",
      "metadata": {
        "colab": {
          "base_uri": "https://localhost:8080/"
        },
        "id": "NsoCHdAr83JL",
        "outputId": "b7299b02-9fcb-4dc0-e0da-8a9f2d23702c"
      },
      "source": [
        "both_teams_dragons = (cblol_data['team1_total_dragons'] + cblol_data['team2_total_dragons']).value_counts()\n",
        "both_teams_dragons"
      ],
      "execution_count": 22,
      "outputs": [
        {
          "output_type": "execute_result",
          "data": {
            "text/plain": [
              "1    60\n",
              "0    30\n",
              "dtype: int64"
            ]
          },
          "metadata": {},
          "execution_count": 22
        }
      ]
    },
    {
      "cell_type": "markdown",
      "metadata": {
        "id": "yPk6bEvdQAWx"
      },
      "source": [
        "## Correlation analysis:"
      ]
    },
    {
      "cell_type": "markdown",
      "metadata": {
        "id": "I9Hp5M2j_8_7"
      },
      "source": [
        "Analyzing the correlation between the teams' gold difference at 10 minutes with the result of the match:"
      ]
    },
    {
      "cell_type": "code",
      "metadata": {
        "id": "pZReMdQdLVb5"
      },
      "source": [
        "gold_diff_positive = gold_diff[gold_diff >= 0] # positive gold difference of team 1 with respect to team 2 (advantage)\n",
        "gold_diff_negative = gold_diff[gold_diff < 0] # negative gold difference of team 1 with respect to team 2 (disadvantage)"
      ],
      "execution_count": 23,
      "outputs": []
    },
    {
      "cell_type": "markdown",
      "metadata": {
        "id": "3gbK6Rm6BI7m"
      },
      "source": [
        "Cross tabulation of advantage for team 1 and the result of the match:"
      ]
    },
    {
      "cell_type": "code",
      "metadata": {
        "colab": {
          "base_uri": "https://localhost:8080/",
          "height": 332
        },
        "id": "mqydZj-q1zuf",
        "outputId": "7adb4b27-6b38-4b91-8091-69ab916b4b8b"
      },
      "source": [
        "pd.crosstab(pd.cut(gold_diff_positive, 10), cblol_data['winner_team'], rownames=['Gold diff'], normalize='index')"
      ],
      "execution_count": 24,
      "outputs": [
        {
          "output_type": "execute_result",
          "data": {
            "text/html": [
              "<div>\n",
              "<style scoped>\n",
              "    .dataframe tbody tr th:only-of-type {\n",
              "        vertical-align: middle;\n",
              "    }\n",
              "\n",
              "    .dataframe tbody tr th {\n",
              "        vertical-align: top;\n",
              "    }\n",
              "\n",
              "    .dataframe thead th {\n",
              "        text-align: right;\n",
              "    }\n",
              "</style>\n",
              "<table border=\"1\" class=\"dataframe\">\n",
              "  <thead>\n",
              "    <tr style=\"text-align: right;\">\n",
              "      <th>winner_team</th>\n",
              "      <th>1</th>\n",
              "      <th>2</th>\n",
              "    </tr>\n",
              "    <tr>\n",
              "      <th>Gold diff</th>\n",
              "      <th></th>\n",
              "      <th></th>\n",
              "    </tr>\n",
              "  </thead>\n",
              "  <tbody>\n",
              "    <tr>\n",
              "      <th>(69.857, 488.3]</th>\n",
              "      <td>0.272727</td>\n",
              "      <td>0.727273</td>\n",
              "    </tr>\n",
              "    <tr>\n",
              "      <th>(488.3, 902.6]</th>\n",
              "      <td>0.333333</td>\n",
              "      <td>0.666667</td>\n",
              "    </tr>\n",
              "    <tr>\n",
              "      <th>(902.6, 1316.9]</th>\n",
              "      <td>0.625000</td>\n",
              "      <td>0.375000</td>\n",
              "    </tr>\n",
              "    <tr>\n",
              "      <th>(1316.9, 1731.2]</th>\n",
              "      <td>0.875000</td>\n",
              "      <td>0.125000</td>\n",
              "    </tr>\n",
              "    <tr>\n",
              "      <th>(1731.2, 2145.5]</th>\n",
              "      <td>0.833333</td>\n",
              "      <td>0.166667</td>\n",
              "    </tr>\n",
              "    <tr>\n",
              "      <th>(2145.5, 2559.8]</th>\n",
              "      <td>1.000000</td>\n",
              "      <td>0.000000</td>\n",
              "    </tr>\n",
              "    <tr>\n",
              "      <th>(2559.8, 2974.1]</th>\n",
              "      <td>1.000000</td>\n",
              "      <td>0.000000</td>\n",
              "    </tr>\n",
              "    <tr>\n",
              "      <th>(3802.7, 4217.0]</th>\n",
              "      <td>1.000000</td>\n",
              "      <td>0.000000</td>\n",
              "    </tr>\n",
              "  </tbody>\n",
              "</table>\n",
              "</div>"
            ],
            "text/plain": [
              "winner_team              1         2\n",
              "Gold diff                           \n",
              "(69.857, 488.3]   0.272727  0.727273\n",
              "(488.3, 902.6]    0.333333  0.666667\n",
              "(902.6, 1316.9]   0.625000  0.375000\n",
              "(1316.9, 1731.2]  0.875000  0.125000\n",
              "(1731.2, 2145.5]  0.833333  0.166667\n",
              "(2145.5, 2559.8]  1.000000  0.000000\n",
              "(2559.8, 2974.1]  1.000000  0.000000\n",
              "(3802.7, 4217.0]  1.000000  0.000000"
            ]
          },
          "metadata": {},
          "execution_count": 24
        }
      ]
    },
    {
      "cell_type": "markdown",
      "metadata": {
        "id": "QqZrSYqdBU19"
      },
      "source": [
        "Cross tabulation of disadvantage for team 1 and the result of the match:"
      ]
    },
    {
      "cell_type": "code",
      "metadata": {
        "colab": {
          "base_uri": "https://localhost:8080/",
          "height": 332
        },
        "id": "BWU83W9t8AKO",
        "outputId": "56dea90e-a6e1-4739-c134-56f1f0da97e2"
      },
      "source": [
        "pd.crosstab(pd.cut(gold_diff_negative, 10), cblol_data['winner_team'], rownames=['Gold diff'], normalize='index')"
      ],
      "execution_count": 25,
      "outputs": [
        {
          "output_type": "execute_result",
          "data": {
            "text/html": [
              "<div>\n",
              "<style scoped>\n",
              "    .dataframe tbody tr th:only-of-type {\n",
              "        vertical-align: middle;\n",
              "    }\n",
              "\n",
              "    .dataframe tbody tr th {\n",
              "        vertical-align: top;\n",
              "    }\n",
              "\n",
              "    .dataframe thead th {\n",
              "        text-align: right;\n",
              "    }\n",
              "</style>\n",
              "<table border=\"1\" class=\"dataframe\">\n",
              "  <thead>\n",
              "    <tr style=\"text-align: right;\">\n",
              "      <th>winner_team</th>\n",
              "      <th>1</th>\n",
              "      <th>2</th>\n",
              "    </tr>\n",
              "    <tr>\n",
              "      <th>Gold diff</th>\n",
              "      <th></th>\n",
              "      <th></th>\n",
              "    </tr>\n",
              "  </thead>\n",
              "  <tbody>\n",
              "    <tr>\n",
              "      <th>(-4130.014, -3724.6]</th>\n",
              "      <td>0.000000</td>\n",
              "      <td>1.000000</td>\n",
              "    </tr>\n",
              "    <tr>\n",
              "      <th>(-2921.8, -2520.4]</th>\n",
              "      <td>0.000000</td>\n",
              "      <td>1.000000</td>\n",
              "    </tr>\n",
              "    <tr>\n",
              "      <th>(-2520.4, -2119.0]</th>\n",
              "      <td>0.000000</td>\n",
              "      <td>1.000000</td>\n",
              "    </tr>\n",
              "    <tr>\n",
              "      <th>(-2119.0, -1717.6]</th>\n",
              "      <td>0.600000</td>\n",
              "      <td>0.400000</td>\n",
              "    </tr>\n",
              "    <tr>\n",
              "      <th>(-1717.6, -1316.2]</th>\n",
              "      <td>0.200000</td>\n",
              "      <td>0.800000</td>\n",
              "    </tr>\n",
              "    <tr>\n",
              "      <th>(-1316.2, -914.8]</th>\n",
              "      <td>0.400000</td>\n",
              "      <td>0.600000</td>\n",
              "    </tr>\n",
              "    <tr>\n",
              "      <th>(-914.8, -513.4]</th>\n",
              "      <td>0.333333</td>\n",
              "      <td>0.666667</td>\n",
              "    </tr>\n",
              "    <tr>\n",
              "      <th>(-513.4, -112.0]</th>\n",
              "      <td>0.333333</td>\n",
              "      <td>0.666667</td>\n",
              "    </tr>\n",
              "  </tbody>\n",
              "</table>\n",
              "</div>"
            ],
            "text/plain": [
              "winner_team                  1         2\n",
              "Gold diff                               \n",
              "(-4130.014, -3724.6]  0.000000  1.000000\n",
              "(-2921.8, -2520.4]    0.000000  1.000000\n",
              "(-2520.4, -2119.0]    0.000000  1.000000\n",
              "(-2119.0, -1717.6]    0.600000  0.400000\n",
              "(-1717.6, -1316.2]    0.200000  0.800000\n",
              "(-1316.2, -914.8]     0.400000  0.600000\n",
              "(-914.8, -513.4]      0.333333  0.666667\n",
              "(-513.4, -112.0]      0.333333  0.666667"
            ]
          },
          "metadata": {},
          "execution_count": 25
        }
      ]
    },
    {
      "cell_type": "markdown",
      "metadata": {
        "id": "JV-phUA5BZl8"
      },
      "source": [
        "When the absolute diffence between the teams at 10 minutes is above 1300 of gold, the result of the match tends to favour the team with advantage."
      ]
    },
    {
      "cell_type": "markdown",
      "metadata": {
        "id": "Ff7xUxifC0IA"
      },
      "source": [
        "Analyzing the correlation between the teams' destroyed buildings at 10 minutes with the result of the match:"
      ]
    },
    {
      "cell_type": "code",
      "metadata": {
        "colab": {
          "base_uri": "https://localhost:8080/",
          "height": 175
        },
        "id": "tAYkRod5Dm9O",
        "outputId": "87003def-c0d0-4a17-f54b-e39b0977c6e5"
      },
      "source": [
        "pd.crosstab([cblol_data['team1_total_buildings'], cblol_data['team2_total_buildings']], cblol_data['winner_team'], rownames=['Team 1 Buildings', 'Team 2 Buildings'])"
      ],
      "execution_count": 26,
      "outputs": [
        {
          "output_type": "execute_result",
          "data": {
            "text/html": [
              "<div>\n",
              "<style scoped>\n",
              "    .dataframe tbody tr th:only-of-type {\n",
              "        vertical-align: middle;\n",
              "    }\n",
              "\n",
              "    .dataframe tbody tr th {\n",
              "        vertical-align: top;\n",
              "    }\n",
              "\n",
              "    .dataframe thead th {\n",
              "        text-align: right;\n",
              "    }\n",
              "</style>\n",
              "<table border=\"1\" class=\"dataframe\">\n",
              "  <thead>\n",
              "    <tr style=\"text-align: right;\">\n",
              "      <th></th>\n",
              "      <th>winner_team</th>\n",
              "      <th>1</th>\n",
              "      <th>2</th>\n",
              "    </tr>\n",
              "    <tr>\n",
              "      <th>Team 1 Buildings</th>\n",
              "      <th>Team 2 Buildings</th>\n",
              "      <th></th>\n",
              "      <th></th>\n",
              "    </tr>\n",
              "  </thead>\n",
              "  <tbody>\n",
              "    <tr>\n",
              "      <th rowspan=\"2\" valign=\"top\">0</th>\n",
              "      <th>0</th>\n",
              "      <td>39</td>\n",
              "      <td>45</td>\n",
              "    </tr>\n",
              "    <tr>\n",
              "      <th>1</th>\n",
              "      <td>1</td>\n",
              "      <td>2</td>\n",
              "    </tr>\n",
              "    <tr>\n",
              "      <th>1</th>\n",
              "      <th>0</th>\n",
              "      <td>2</td>\n",
              "      <td>1</td>\n",
              "    </tr>\n",
              "  </tbody>\n",
              "</table>\n",
              "</div>"
            ],
            "text/plain": [
              "winner_team                         1   2\n",
              "Team 1 Buildings Team 2 Buildings        \n",
              "0                0                 39  45\n",
              "                 1                  1   2\n",
              "1                0                  2   1"
            ]
          },
          "metadata": {},
          "execution_count": 26
        }
      ]
    },
    {
      "cell_type": "markdown",
      "metadata": {
        "id": "-amaC0K9C71l"
      },
      "source": [
        "Analyzing the correlation between the teams' slain dragons at 10 minutes with the result of the match:"
      ]
    },
    {
      "cell_type": "code",
      "metadata": {
        "colab": {
          "base_uri": "https://localhost:8080/",
          "height": 175
        },
        "id": "X32ds8oRExWn",
        "outputId": "442711f1-6601-49bd-9d22-bd69e3665ecb"
      },
      "source": [
        "pd.crosstab([cblol_data['team1_total_dragons'], cblol_data['team2_total_dragons']], cblol_data['winner_team'], rownames=['Team 1 Dragons', 'Team 2 Dragons'])"
      ],
      "execution_count": 27,
      "outputs": [
        {
          "output_type": "execute_result",
          "data": {
            "text/html": [
              "<div>\n",
              "<style scoped>\n",
              "    .dataframe tbody tr th:only-of-type {\n",
              "        vertical-align: middle;\n",
              "    }\n",
              "\n",
              "    .dataframe tbody tr th {\n",
              "        vertical-align: top;\n",
              "    }\n",
              "\n",
              "    .dataframe thead th {\n",
              "        text-align: right;\n",
              "    }\n",
              "</style>\n",
              "<table border=\"1\" class=\"dataframe\">\n",
              "  <thead>\n",
              "    <tr style=\"text-align: right;\">\n",
              "      <th></th>\n",
              "      <th>winner_team</th>\n",
              "      <th>1</th>\n",
              "      <th>2</th>\n",
              "    </tr>\n",
              "    <tr>\n",
              "      <th>Team 1 Dragons</th>\n",
              "      <th>Team 2 Dragons</th>\n",
              "      <th></th>\n",
              "      <th></th>\n",
              "    </tr>\n",
              "  </thead>\n",
              "  <tbody>\n",
              "    <tr>\n",
              "      <th rowspan=\"2\" valign=\"top\">0</th>\n",
              "      <th>0</th>\n",
              "      <td>13</td>\n",
              "      <td>17</td>\n",
              "    </tr>\n",
              "    <tr>\n",
              "      <th>1</th>\n",
              "      <td>13</td>\n",
              "      <td>18</td>\n",
              "    </tr>\n",
              "    <tr>\n",
              "      <th>1</th>\n",
              "      <th>0</th>\n",
              "      <td>16</td>\n",
              "      <td>13</td>\n",
              "    </tr>\n",
              "  </tbody>\n",
              "</table>\n",
              "</div>"
            ],
            "text/plain": [
              "winner_team                     1   2\n",
              "Team 1 Dragons Team 2 Dragons        \n",
              "0              0               13  17\n",
              "               1               13  18\n",
              "1              0               16  13"
            ]
          },
          "metadata": {},
          "execution_count": 27
        }
      ]
    },
    {
      "cell_type": "markdown",
      "metadata": {
        "id": "h4_xYB9FD-rU"
      },
      "source": [
        "Analyzing the correlation between the teams' gold difference at 10 minutes with the champion kills:"
      ]
    },
    {
      "cell_type": "code",
      "metadata": {
        "colab": {
          "base_uri": "https://localhost:8080/",
          "height": 386
        },
        "id": "W85P7KWUzyCD",
        "outputId": "44a77572-eaac-4da2-f9fe-60c73ce57b13"
      },
      "source": [
        "sns.lmplot(x='team1_total_kills', y='team1_total_gold', data=cblol_data, line_kws={'color': 'red'})"
      ],
      "execution_count": 28,
      "outputs": [
        {
          "output_type": "execute_result",
          "data": {
            "text/plain": [
              "<seaborn.axisgrid.FacetGrid at 0x7f835929cd90>"
            ]
          },
          "metadata": {},
          "execution_count": 28
        },
        {
          "output_type": "display_data",
          "data": {
            "image/png": "[encoded data removed]",
            "text/plain": [
              "<Figure size 360x360 with 1 Axes>"
            ]
          },
          "metadata": {
            "needs_background": "light"
          }
        }
      ]
    },
    {
      "cell_type": "code",
      "metadata": {
        "colab": {
          "base_uri": "https://localhost:8080/",
          "height": 386
        },
        "id": "xozttqVw0K5G",
        "outputId": "ba12e1a9-46c8-42a2-9cb0-062fa111af07"
      },
      "source": [
        "sns.lmplot(x='team2_total_kills', y='team2_total_gold', data=cblol_data, line_kws={'color': 'red'})"
      ],
      "execution_count": 29,
      "outputs": [
        {
          "output_type": "execute_result",
          "data": {
            "text/plain": [
              "<seaborn.axisgrid.FacetGrid at 0x7f8359400dd0>"
            ]
          },
          "metadata": {},
          "execution_count": 29
        },
        {
          "output_type": "display_data",
          "data": {
            "image/png": "[encoded data removed]",
            "text/plain": [
              "<Figure size 360x360 with 1 Axes>"
            ]
          },
          "metadata": {
            "needs_background": "light"
          }
        }
      ]
    },
    {
      "cell_type": "markdown",
      "metadata": {
        "id": "HAM5wEt6ESzZ"
      },
      "source": [
        "A correlation was observed between the two variables, this makes sense because in the game the kills increase the team's total gold."
      ]
    },
    {
      "cell_type": "markdown",
      "metadata": {
        "id": "rtt8MPt3L3zG"
      },
      "source": [
        "Creating correlation matrix of variables:"
      ]
    },
    {
      "cell_type": "code",
      "metadata": {
        "colab": {
          "base_uri": "https://localhost:8080/",
          "height": 320
        },
        "id": "tjpCFa9eHHsC",
        "outputId": "fbf6d354-dc1f-4539-8e2c-46a1247d5991"
      },
      "source": [
        "cblol_data.loc[:, 'team1_total_gold':'team2_total_dragons'].corr()"
      ],
      "execution_count": 30,
      "outputs": [
        {
          "output_type": "execute_result",
          "data": {
            "text/html": [
              "<div>\n",
              "<style scoped>\n",
              "    .dataframe tbody tr th:only-of-type {\n",
              "        vertical-align: middle;\n",
              "    }\n",
              "\n",
              "    .dataframe tbody tr th {\n",
              "        vertical-align: top;\n",
              "    }\n",
              "\n",
              "    .dataframe thead th {\n",
              "        text-align: right;\n",
              "    }\n",
              "</style>\n",
              "<table border=\"1\" class=\"dataframe\">\n",
              "  <thead>\n",
              "    <tr style=\"text-align: right;\">\n",
              "      <th></th>\n",
              "      <th>team1_total_gold</th>\n",
              "      <th>team2_total_gold</th>\n",
              "      <th>team1_total_kills</th>\n",
              "      <th>team2_total_kills</th>\n",
              "      <th>team1_total_buildings</th>\n",
              "      <th>team2_total_buildings</th>\n",
              "      <th>team1_total_dragons</th>\n",
              "      <th>team2_total_dragons</th>\n",
              "    </tr>\n",
              "  </thead>\n",
              "  <tbody>\n",
              "    <tr>\n",
              "      <th>team1_total_gold</th>\n",
              "      <td>1.000000</td>\n",
              "      <td>-0.142423</td>\n",
              "      <td>0.773587</td>\n",
              "      <td>-1.850601e-02</td>\n",
              "      <td>3.635794e-01</td>\n",
              "      <td>-0.091047</td>\n",
              "      <td>0.068948</td>\n",
              "      <td>0.049650</td>\n",
              "    </tr>\n",
              "    <tr>\n",
              "      <th>team2_total_gold</th>\n",
              "      <td>-0.142423</td>\n",
              "      <td>1.000000</td>\n",
              "      <td>0.006519</td>\n",
              "      <td>8.017596e-01</td>\n",
              "      <td>2.219756e-02</td>\n",
              "      <td>0.302839</td>\n",
              "      <td>-0.102458</td>\n",
              "      <td>-0.027391</td>\n",
              "    </tr>\n",
              "    <tr>\n",
              "      <th>team1_total_kills</th>\n",
              "      <td>0.773587</td>\n",
              "      <td>0.006519</td>\n",
              "      <td>1.000000</td>\n",
              "      <td>2.615022e-01</td>\n",
              "      <td>6.127221e-02</td>\n",
              "      <td>-0.080125</td>\n",
              "      <td>-0.084787</td>\n",
              "      <td>0.038873</td>\n",
              "    </tr>\n",
              "    <tr>\n",
              "      <th>team2_total_kills</th>\n",
              "      <td>-0.018506</td>\n",
              "      <td>0.801760</td>\n",
              "      <td>0.261502</td>\n",
              "      <td>1.000000e+00</td>\n",
              "      <td>-1.444363e-17</td>\n",
              "      <td>0.030611</td>\n",
              "      <td>-0.137177</td>\n",
              "      <td>-0.119490</td>\n",
              "    </tr>\n",
              "    <tr>\n",
              "      <th>team1_total_buildings</th>\n",
              "      <td>0.363579</td>\n",
              "      <td>0.022198</td>\n",
              "      <td>0.061272</td>\n",
              "      <td>-1.444363e-17</td>\n",
              "      <td>1.000000e+00</td>\n",
              "      <td>-0.034483</td>\n",
              "      <td>0.269319</td>\n",
              "      <td>-0.134603</td>\n",
              "    </tr>\n",
              "    <tr>\n",
              "      <th>team2_total_buildings</th>\n",
              "      <td>-0.091047</td>\n",
              "      <td>0.302839</td>\n",
              "      <td>-0.080125</td>\n",
              "      <td>3.061097e-02</td>\n",
              "      <td>-3.448276e-02</td>\n",
              "      <td>1.000000</td>\n",
              "      <td>-0.128037</td>\n",
              "      <td>0.125919</td>\n",
              "    </tr>\n",
              "    <tr>\n",
              "      <th>team1_total_dragons</th>\n",
              "      <td>0.068948</td>\n",
              "      <td>-0.102458</td>\n",
              "      <td>-0.084787</td>\n",
              "      <td>-1.371767e-01</td>\n",
              "      <td>2.693190e-01</td>\n",
              "      <td>-0.128037</td>\n",
              "      <td>1.000000</td>\n",
              "      <td>-0.499792</td>\n",
              "    </tr>\n",
              "    <tr>\n",
              "      <th>team2_total_dragons</th>\n",
              "      <td>0.049650</td>\n",
              "      <td>-0.027391</td>\n",
              "      <td>0.038873</td>\n",
              "      <td>-1.194898e-01</td>\n",
              "      <td>-1.346033e-01</td>\n",
              "      <td>0.125919</td>\n",
              "      <td>-0.499792</td>\n",
              "      <td>1.000000</td>\n",
              "    </tr>\n",
              "  </tbody>\n",
              "</table>\n",
              "</div>"
            ],
            "text/plain": [
              "                       team1_total_gold  ...  team2_total_dragons\n",
              "team1_total_gold               1.000000  ...             0.049650\n",
              "team2_total_gold              -0.142423  ...            -0.027391\n",
              "team1_total_kills              0.773587  ...             0.038873\n",
              "team2_total_kills             -0.018506  ...            -0.119490\n",
              "team1_total_buildings          0.363579  ...            -0.134603\n",
              "team2_total_buildings         -0.091047  ...             0.125919\n",
              "team1_total_dragons            0.068948  ...            -0.499792\n",
              "team2_total_dragons            0.049650  ...             1.000000\n",
              "\n",
              "[8 rows x 8 columns]"
            ]
          },
          "metadata": {},
          "execution_count": 30
        }
      ]
    },
    {
      "cell_type": "markdown",
      "metadata": {
        "id": "c0JhEQhINDxr"
      },
      "source": [
        "Greater proportional relationships are observed between the variables of total gold and champion kills."
      ]
    },
    {
      "cell_type": "markdown",
      "metadata": {
        "id": "XG4aVzW1MgaC"
      },
      "source": [
        "Correlation matrix heat map:"
      ]
    },
    {
      "cell_type": "code",
      "metadata": {
        "colab": {
          "base_uri": "https://localhost:8080/",
          "height": 638
        },
        "id": "mhVRput_MEMW",
        "outputId": "bbbf0c03-4e9e-44b5-ef9c-459e053a6b82"
      },
      "source": [
        "corr = cblol_data.loc[:, 'team1_total_gold':'team2_total_dragons'].corr()\n",
        "\n",
        "# Generate a mask for the upper triangle\n",
        "mask = np.triu(np.ones_like(corr, dtype=bool))\n",
        "\n",
        "# Set up the matplotlib figure\n",
        "f, ax = plt.subplots(figsize=(11, 9))\n",
        "\n",
        "# Generate a custom diverging colormap\n",
        "cmap = sns.diverging_palette(230, 20, as_cmap=True)\n",
        "\n",
        "# Draw the heatmap with the mask and correct aspect ratio\n",
        "sns.heatmap(corr, mask=mask, cmap=cmap, center=0,\n",
        "            square=True, linewidths=.5, cbar_kws={\"shrink\": .5})\n",
        "\n",
        "plt.show()"
      ],
      "execution_count": 31,
      "outputs": [
        {
          "output_type": "display_data",
          "data": {
            "image/png": "[encoded data removed]",
            "text/plain": [
              "<Figure size 792x648 with 2 Axes>"
            ]
          },
          "metadata": {
            "needs_background": "light"
          }
        }
      ]
    },
    {
      "cell_type": "markdown",
      "metadata": {
        "id": "MlDlUiBOOkeX"
      },
      "source": [
        "## Data modeling:"
      ]
    },
    {
      "cell_type": "code",
      "metadata": {
        "id": "kbyY_hw8-36h"
      },
      "source": [
        "from sklearn.svm import LinearSVC\n",
        "from sklearn.neighbors import KNeighborsClassifier\n",
        "from sklearn.linear_model import LogisticRegression\n",
        "from sklearn.tree import DecisionTreeClassifier\n",
        "from sklearn.dummy import DummyClassifier\n",
        "\n",
        "from sklearn.model_selection import train_test_split\n",
        "\n",
        "from sklearn.metrics import confusion_matrix\n",
        "from sklearn.metrics import plot_confusion_matrix"
      ],
      "execution_count": 32,
      "outputs": []
    },
    {
      "cell_type": "code",
      "metadata": {
        "id": "z4LfYf1gPy6U"
      },
      "source": [
        "cblol_data_normalized = cblol_data.copy()\n",
        "# normalizing data\n",
        "cblol_data_normalized['team1_total_gold'] = cblol_data_normalized['team1_total_gold'].apply( lambda value: (value - cblol_data_normalized['team1_total_gold'].mean() ) / cblol_data_normalized['team1_total_gold'].std() )\n",
        "cblol_data_normalized['team2_total_gold'] = cblol_data_normalized['team2_total_gold'].apply( lambda value: (value - cblol_data_normalized['team2_total_gold'].mean() ) / cblol_data_normalized['team2_total_gold'].std() )"
      ],
      "execution_count": 33,
      "outputs": []
    },
    {
      "cell_type": "markdown",
      "metadata": {
        "id": "PcHMB1wPxe4x"
      },
      "source": [
        "The next 3 cells are used to run the algorithms with different variables arrangements (run one at a time):"
      ]
    },
    {
      "cell_type": "code",
      "metadata": {
        "id": "pz2Ufamwu8rp"
      },
      "source": [
        "# using normalized data and splitting dataset\n",
        "x = cblol_data_normalized.loc[:, 'team1_total_gold':'team2_total_dragons']\n",
        "y = cblol_data_normalized['winner_team']\n",
        "\n",
        "x_train, x_test, y_train, y_test = train_test_split(x, y, test_size = 0.2, random_state = 29)"
      ],
      "execution_count": 40,
      "outputs": []
    },
    {
      "cell_type": "code",
      "metadata": {
        "id": "FX7xi0aVxlMe"
      },
      "source": [
        "x = cblol_data_normalized.loc[:, 'team1_total_gold':'team2_total_dragons'].drop(['team1_total_buildings', 'team2_total_buildings'], axis=1)\n",
        "y = cblol_data_normalized['winner_team']\n",
        "\n",
        "x_train, x_test, y_train, y_test = train_test_split(x, y, test_size = 0.2, random_state = 29)"
      ],
      "execution_count": 35,
      "outputs": []
    },
    {
      "cell_type": "code",
      "metadata": {
        "id": "HKpN7evu2V-6"
      },
      "source": [
        "x = cblol_data_normalized.loc[:, ['team1_total_gold', 'team2_total_gold', 'team1_total_dragons', 'team2_total_dragons']]\n",
        "y = cblol_data_normalized['winner_team']\n",
        "\n",
        "x_train, x_test, y_train, y_test = train_test_split(x, y, test_size = 0.2, random_state = 29)"
      ],
      "execution_count": 36,
      "outputs": []
    },
    {
      "cell_type": "markdown",
      "metadata": {
        "id": "QuDgZBkjvKqj"
      },
      "source": [
        "Linear SVC:"
      ]
    },
    {
      "cell_type": "code",
      "metadata": {
        "colab": {
          "base_uri": "https://localhost:8080/"
        },
        "id": "v_CohvKVPNkp",
        "outputId": "f53825cc-f00a-46eb-f575-c24c235f7db3"
      },
      "source": [
        "model_lsvc = LinearSVC(max_iter=1e4)\n",
        "model_lsvc.fit(x_train, y_train)\n",
        "model_lsvc.score(x_test, y_test)"
      ],
      "execution_count": 41,
      "outputs": [
        {
          "output_type": "execute_result",
          "data": {
            "text/plain": [
              "0.6666666666666666"
            ]
          },
          "metadata": {},
          "execution_count": 41
        }
      ]
    },
    {
      "cell_type": "markdown",
      "metadata": {
        "id": "EniXg6I4ZQ8k"
      },
      "source": [
        "Linear SVC confusion matrix:"
      ]
    },
    {
      "cell_type": "code",
      "metadata": {
        "colab": {
          "base_uri": "https://localhost:8080/",
          "height": 283
        },
        "id": "u52HBDvITwLC",
        "outputId": "770186d9-6993-4c4e-8c7f-31b2a7449f0d"
      },
      "source": [
        "plot_confusion_matrix(model_lsvc, x_test, y_test, display_labels=['Team 1', 'Team 2'])\n",
        "plt.show()"
      ],
      "execution_count": 42,
      "outputs": [
        {
          "output_type": "display_data",
          "data": {
            "image/png": "[encoded data removed]",
            "text/plain": [
              "<Figure size 432x288 with 2 Axes>"
            ]
          },
          "metadata": {
            "needs_background": "light"
          }
        }
      ]
    },
    {
      "cell_type": "markdown",
      "metadata": {
        "id": "e2PuSnS96WlJ"
      },
      "source": [
        "KNN:"
      ]
    },
    {
      "cell_type": "code",
      "metadata": {
        "colab": {
          "base_uri": "https://localhost:8080/"
        },
        "id": "8NcsaOsT5jWQ",
        "outputId": "75bbe008-0325-44a2-e4a9-6d600c7616d0"
      },
      "source": [
        "model_knn = KNeighborsClassifier(n_neighbors=5)\n",
        "model_knn.fit(x_train, y_train)\n",
        "model_knn.score(x_test, y_test)"
      ],
      "execution_count": 43,
      "outputs": [
        {
          "output_type": "execute_result",
          "data": {
            "text/plain": [
              "0.5555555555555556"
            ]
          },
          "metadata": {},
          "execution_count": 43
        }
      ]
    },
    {
      "cell_type": "markdown",
      "metadata": {
        "id": "_8HeaXgVoosX"
      },
      "source": [
        "KNN confusion matrix:"
      ]
    },
    {
      "cell_type": "code",
      "metadata": {
        "colab": {
          "base_uri": "https://localhost:8080/",
          "height": 283
        },
        "id": "bfqZvtG-okSx",
        "outputId": "b3f6bed4-6efa-4f8e-f548-de6e0bb87ef2"
      },
      "source": [
        "plot_confusion_matrix(model_knn, x_test, y_test, display_labels=['Team 1', 'Team 2'])\n",
        "plt.show()"
      ],
      "execution_count": 44,
      "outputs": [
        {
          "output_type": "display_data",
          "data": {
            "image/png": "[encoded data removed]",
            "text/plain": [
              "<Figure size 432x288 with 2 Axes>"
            ]
          },
          "metadata": {
            "needs_background": "light"
          }
        }
      ]
    },
    {
      "cell_type": "markdown",
      "metadata": {
        "id": "fnReNzMlvNQN"
      },
      "source": [
        "Logistic Regression:"
      ]
    },
    {
      "cell_type": "code",
      "metadata": {
        "id": "WrlCMqwm_85o",
        "colab": {
          "base_uri": "https://localhost:8080/"
        },
        "outputId": "ca8952f1-d10e-4a1c-ffc1-746cd05b71f1"
      },
      "source": [
        "model_lregression = LogisticRegression()\n",
        "model_lregression.fit(x_train, y_train)\n",
        "model_lregression.score(x_test, y_test)"
      ],
      "execution_count": 45,
      "outputs": [
        {
          "output_type": "execute_result",
          "data": {
            "text/plain": [
              "0.6666666666666666"
            ]
          },
          "metadata": {},
          "execution_count": 45
        }
      ]
    },
    {
      "cell_type": "markdown",
      "metadata": {
        "id": "R3mfsWTYorXA"
      },
      "source": [
        "Logistic Regression confusion matrix:"
      ]
    },
    {
      "cell_type": "code",
      "metadata": {
        "colab": {
          "base_uri": "https://localhost:8080/",
          "height": 283
        },
        "id": "8a3wl4vQorE3",
        "outputId": "b9bb5552-83c6-4d2b-92d3-75ce9fc0c34c"
      },
      "source": [
        "plot_confusion_matrix(model_lregression, x_test, y_test, display_labels=['Team 1', 'Team 2'])\n",
        "plt.show()"
      ],
      "execution_count": 46,
      "outputs": [
        {
          "output_type": "display_data",
          "data": {
            "image/png": "[encoded data removed]",
            "text/plain": [
              "<Figure size 432x288 with 2 Axes>"
            ]
          },
          "metadata": {
            "needs_background": "light"
          }
        }
      ]
    },
    {
      "cell_type": "markdown",
      "metadata": {
        "id": "sSu6XZLcvXae"
      },
      "source": [
        "Decision Tree:"
      ]
    },
    {
      "cell_type": "code",
      "metadata": {
        "colab": {
          "base_uri": "https://localhost:8080/"
        },
        "id": "rK2xMByRM5ib",
        "outputId": "deaeb71e-004e-4945-8962-b8b4db1e7df3"
      },
      "source": [
        "model_tree = DecisionTreeClassifier(max_depth = 10, random_state = 29)\n",
        "model_tree.fit(x_train, y_train)\n",
        "model_tree.score(x_test, y_test)"
      ],
      "execution_count": 47,
      "outputs": [
        {
          "output_type": "execute_result",
          "data": {
            "text/plain": [
              "0.6111111111111112"
            ]
          },
          "metadata": {},
          "execution_count": 47
        }
      ]
    },
    {
      "cell_type": "markdown",
      "metadata": {
        "id": "gAdDgUsnou6v"
      },
      "source": [
        "Decision Tree confusion matrix:"
      ]
    },
    {
      "cell_type": "code",
      "metadata": {
        "colab": {
          "base_uri": "https://localhost:8080/",
          "height": 283
        },
        "id": "Z0iiTqaPoulQ",
        "outputId": "7846bef6-ceb7-4730-e6da-0b4c78460734"
      },
      "source": [
        "plot_confusion_matrix(model_tree, x_test, y_test, display_labels=['Team 1', 'Team 2'])\n",
        "plt.show()"
      ],
      "execution_count": 48,
      "outputs": [
        {
          "output_type": "display_data",
          "data": {
            "image/png": "[encoded data removed]",
            "text/plain": [
              "<Figure size 432x288 with 2 Axes>"
            ]
          },
          "metadata": {
            "needs_background": "light"
          }
        }
      ]
    },
    {
      "cell_type": "markdown",
      "metadata": {
        "id": "L7P0E2nrxegX"
      },
      "source": [
        "Dummy Classifier:"
      ]
    },
    {
      "cell_type": "code",
      "metadata": {
        "colab": {
          "base_uri": "https://localhost:8080/"
        },
        "id": "NoTNZMoHFqMh",
        "outputId": "f9ecdd98-e63a-4b9b-dc11-aa1e6714c086"
      },
      "source": [
        "model_dummy = DummyClassifier('most_frequent')\n",
        "model_dummy.fit(x_train, y_train)\n",
        "model_dummy.score(x_test, y_test)"
      ],
      "execution_count": 49,
      "outputs": [
        {
          "output_type": "execute_result",
          "data": {
            "text/plain": [
              "0.5"
            ]
          },
          "metadata": {},
          "execution_count": 49
        }
      ]
    },
    {
      "cell_type": "markdown",
      "metadata": {
        "id": "8BbAizgRZnuN"
      },
      "source": [
        "Comparison of the accuracy of the models:"
      ]
    },
    {
      "cell_type": "code",
      "metadata": {
        "colab": {
          "base_uri": "https://localhost:8080/",
          "height": 441
        },
        "id": "kdhp0MN3ZtVv",
        "outputId": "5290e83d-b2bd-4069-aa9f-adace83a1436"
      },
      "source": [
        "models = ['Linear SVC', 'KNN', 'Logistic Regression', 'Decision Tree' , 'Dummy Classifier']\n",
        "models_scores = [model_lsvc.score(x_test, y_test),\n",
        "                 model_knn.score(x_test, y_test),\n",
        "                 model_lregression.score(x_test, y_test),\n",
        "                 model_tree.score(x_test, y_test),\n",
        "                 model_dummy.score(x_test, y_test)]\n",
        "\n",
        "fig, ax = plt.subplots(figsize=(8,6))\n",
        "sns.barplot(x=models, y=models_scores, ax=ax, palette='dark')\n",
        "ax.set_title(\"Model accuracy\", fontsize=20)\n",
        "ax.set_xlabel(\"Model\", fontsize=15)\n",
        "ax.set_ylabel(\"Accuracy\", fontsize=15)\n",
        "\n",
        "ax.spines['bottom'].set_linewidth(2.5)\n",
        "ax.tick_params(axis='y', labelleft=False, left=None)   \n",
        "\n",
        "for axis in ['top', 'right', 'left']:\n",
        "   ax.spines[axis].set_color(None)\n",
        "\n",
        "for index, score in enumerate(models_scores):\n",
        "    ax.text(index, score, np.round(score*100, 2), color='black', ha=\"center\", fontsize=15)\n",
        "\n",
        "fig.tight_layout()\n",
        "plt.show()"
      ],
      "execution_count": 50,
      "outputs": [
        {
          "output_type": "display_data",
          "data": {
            "image/png": "[encoded data removed]",
            "text/plain": [
              "<Figure size 576x432 with 1 Axes>"
            ]
          },
          "metadata": {
            "needs_background": "light"
          }
        }
      ]
    },
    {
      "cell_type": "markdown",
      "metadata": {
        "id": "CYVF874pyBUn"
      },
      "source": [
        "Using the Linear SVC model it is possible to predict the match result at 10 minutes with 66.67% accuracy based on each team's total gold, champion kills, destroyed buildings and slain dragons."
      ]
    }
  ]
}